{
 "cells": [
  {
   "cell_type": "code",
   "execution_count": 38,
   "metadata": {},
   "outputs": [],
   "source": [
    "import psycopg2\n",
    "import pandas\n",
    "from sklearn.feature_extraction.text import TfidfVectorizer, CountVectorizer\n",
    "\n",
    "conn = psycopg2.connect(host=\"localhost\", port = 5432, database=\"chequelidev\", user=\"test3\", password=\"test3\")\n",
    "cur = conn.cursor() # Create a cursor object\n",
    "\n",
    "# https://realpython.com/python-keras-text-classification/\n",
    "# https://towardsdatascience.com/text-classification-in-python-dd95d264c802\n",
    "# https://www.analyticsvidhya.com/blog/2018/04/a-comprehensive-guide-to-understand-and-implement-text-classification-in-python/"
   ]
  },
  {
   "cell_type": "code",
   "execution_count": 39,
   "metadata": {
    "scrolled": true
   },
   "outputs": [
    {
     "data": {
      "text/plain": [
       "<23x1212 sparse matrix of type '<class 'numpy.float64'>'\n",
       "\twith 1993 stored elements in Compressed Sparse Row format>"
      ]
     },
     "execution_count": 39,
     "metadata": {},
     "output_type": "execute_result"
    }
   ],
   "source": [
    "trainDF = pandas.read_sql_query(\"SELECT raw_text, id, user_id FROM auth0login_scan\", conn) \n",
    "#print(trainDF.info)\n",
    "\n",
    "count_vect = CountVectorizer(analyzer='word', token_pattern=r'\\w{1,}')\n",
    "count_vect.fit(trainDF['raw_text'])\n",
    "#print(count_vect)\n",
    "xtrain_count = count_vect.transform(trainDF['raw_text'])\n",
    "#print(xtrain_count)\n",
    "    \n",
    "tfidf_vect = TfidfVectorizer(analyzer='word', token_pattern=r'\\w{1,}', max_features=5000)\n",
    "tfidf_vect.fit(trainDF['raw_text'])\n",
    "xtrain_tfidf =  tfidf_vect.transform(trainDF['raw_text'])\n",
    "#print(xtrain_tfidf)\n",
    "\n",
    "(xtrain_tfidf)\n"
   ]
  },
  {
   "cell_type": "code",
   "execution_count": null,
   "metadata": {},
   "outputs": [],
   "source": [
    "#cur.close() \n",
    "#conn.close() # Close the cursor and connection to so the server can allocate bandwidth to other requests"
   ]
  },
  {
   "cell_type": "code",
   "execution_count": null,
   "metadata": {},
   "outputs": [],
   "source": []
  }
 ],
 "metadata": {
  "kernelspec": {
   "display_name": "Python 3",
   "language": "python",
   "name": "python3"
  },
  "language_info": {
   "codemirror_mode": {
    "name": "ipython",
    "version": 3
   },
   "file_extension": ".py",
   "mimetype": "text/x-python",
   "name": "python",
   "nbconvert_exporter": "python",
   "pygments_lexer": "ipython3",
   "version": "3.7.4"
  }
 },
 "nbformat": 4,
 "nbformat_minor": 2
}
