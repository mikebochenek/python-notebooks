{
 "cells": [
  {
   "cell_type": "markdown",
   "metadata": {},
   "source": [
    "# Fibonacci"
   ]
  },
  {
   "cell_type": "code",
   "execution_count": 3,
   "metadata": {},
   "outputs": [
    {
     "name": "stdout",
     "output_type": "stream",
     "text": [
      "55\n"
     ]
    }
   ],
   "source": [
    "def fibonacci(n):\n",
    "    if n < 2:\n",
    "        return n\n",
    "    else:\n",
    "        return fibonacci(n-1) + fibonacci(n-2)\n",
    "    \n",
    "print(fibonacci(10))"
   ]
  },
  {
   "cell_type": "code",
   "execution_count": 2,
   "metadata": {},
   "outputs": [
    {
     "name": "stdout",
     "output_type": "stream",
     "text": [
      "lets play!\n",
      "[0.10234949924051762, 0.10893076285719872, 0.090524738188833, 0.08899801410734653, 0.09548459714278579, 0.11861281422898173, 0.11772358696907759]\n"
     ]
    }
   ],
   "source": [
    "print('lets play!')\n",
    "import timeit;\n",
    "\n",
    "# using timeit based on examples from https://stackoverflow.com/questions/8220801/how-to-use-timeit-module\n",
    "\n",
    "setup = '''\n",
    "import random\n",
    "\n",
    "random.seed('slartibartfast')\n",
    "s = [random.random() for i in range(1000)]\n",
    "timsort = list.sort\n",
    "'''\n",
    "\n",
    "print (timeit.Timer('a=s[:]; timsort(a)', setup=setup).repeat(7, 1000))"
   ]
  },
  {
   "cell_type": "code",
   "execution_count": null,
   "metadata": {},
   "outputs": [],
   "source": []
  }
 ],
 "metadata": {
  "kernelspec": {
   "display_name": "Python 3",
   "language": "python",
   "name": "python3"
  },
  "language_info": {
   "codemirror_mode": {
    "name": "ipython",
    "version": 3
   },
   "file_extension": ".py",
   "mimetype": "text/x-python",
   "name": "python",
   "nbconvert_exporter": "python",
   "pygments_lexer": "ipython3",
   "version": "3.7.4"
  }
 },
 "nbformat": 4,
 "nbformat_minor": 2
}
