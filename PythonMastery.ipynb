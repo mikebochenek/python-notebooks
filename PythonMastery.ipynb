{
 "cells": [
  {
   "cell_type": "markdown",
   "metadata": {},
   "source": [
    "# Fibonacci"
   ]
  },
  {
   "cell_type": "code",
   "execution_count": 3,
   "metadata": {},
   "outputs": [
    {
     "name": "stdout",
     "output_type": "stream",
     "text": [
      "55\n"
     ]
    }
   ],
   "source": [
    "def fibonacci(n):\n",
    "    if n < 2:\n",
    "        return n\n",
    "    else:\n",
    "        return fibonacci(n-1) + fibonacci(n-2)\n",
    "    \n",
    "print(fibonacci(10))"
   ]
  },
  {
   "cell_type": "code",
   "execution_count": 3,
   "metadata": {},
   "outputs": [
    {
     "name": "stdout",
     "output_type": "stream",
     "text": [
      "lets play!\n",
      "[0.38011507596820593, 0.3651099498383701, 0.3749851677566767, 0.2635591677390039, 0.4269129200838506, 0.33220514142885804, 0.36713546700775623]\n"
     ]
    }
   ],
   "source": [
    "print('lets play!')\n",
    "import timeit;\n",
    "\n",
    "# using timeit based on examples from https://stackoverflow.com/questions/8220801/how-to-use-timeit-module\n",
    "\n",
    "setup = '''\n",
    "import random\n",
    "\n",
    "random.seed('randomly')\n",
    "s = [random.random() for i in range(1000)]\n",
    "timsort = list.sort\n",
    "'''\n",
    "\n",
    "print (timeit.Timer('a=s[:]; timsort(a)', setup=setup).repeat(7, 1000))"
   ]
  },
  {
   "cell_type": "code",
   "execution_count": 8,
   "metadata": {},
   "outputs": [
    {
     "data": {
      "text/plain": [
       "31"
      ]
     },
     "execution_count": 8,
     "metadata": {},
     "output_type": "execute_result"
    }
   ],
   "source": [
    "# Complete the simpleArraySum function below (challenges/simple-array-sum/problem hackerrank)\n",
    "def simpleArraySum(ar):\n",
    "    total = 0;\n",
    "    for x in ar:\n",
    "        total = total + x\n",
    "    return total\n",
    "\n",
    "simpleArraySum({1, 2, 3, 4, 10, 11})"
   ]
  },
  {
   "cell_type": "code",
   "execution_count": null,
   "metadata": {},
   "outputs": [],
   "source": [
    "# might be also intersting\n",
    "# https://docs.python.org/3/library/unittest.html#unittest-test-discovery\n",
    "# python -m unittest discover\n"
   ]
  }
 ],
 "metadata": {
  "kernelspec": {
   "display_name": "Python 3",
   "language": "python",
   "name": "python3"
  },
  "language_info": {
   "codemirror_mode": {
    "name": "ipython",
    "version": 3
   },
   "file_extension": ".py",
   "mimetype": "text/x-python",
   "name": "python",
   "nbconvert_exporter": "python",
   "pygments_lexer": "ipython3",
   "version": "3.7.4"
  }
 },
 "nbformat": 4,
 "nbformat_minor": 2
}
